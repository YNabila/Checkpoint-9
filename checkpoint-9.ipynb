{
 "cells": [
  {
   "cell_type": "markdown",
   "id": "0796e35a",
   "metadata": {},
   "source": [
    "## Checkpoint 9"
   ]
  },
  {
   "cell_type": "markdown",
   "id": "9b8b1ca1",
   "metadata": {},
   "source": [
    "1. Write a Python program to read an entire text file."
   ]
  },
  {
   "cell_type": "code",
   "execution_count": 1,
   "id": "c5c49baa",
   "metadata": {},
   "outputs": [
    {
     "name": "stdout",
     "output_type": "stream",
     "text": [
      "this is line 1\n",
      "this is line 2\n",
      "this is line 3\n",
      "this is the last line\n"
     ]
    }
   ],
   "source": [
    "f = open(\"test.txt\",'r',encoding = 'utf-8')\n",
    "print(f.read())"
   ]
  },
  {
   "cell_type": "markdown",
   "id": "1c5a5e2e",
   "metadata": {},
   "source": [
    "2. Write a Python program to read the first n lines of a file."
   ]
  },
  {
   "cell_type": "code",
   "execution_count": 2,
   "id": "c8c95bcc",
   "metadata": {},
   "outputs": [
    {
     "name": "stdout",
     "output_type": "stream",
     "text": [
      "this is line 1\n",
      "\n",
      "this is line 2\n",
      "\n"
     ]
    }
   ],
   "source": [
    "def firstlines(file,n):\n",
    "    with open(file) as f:\n",
    "        for x in range(0,n):\n",
    "            print(f.readline())\n",
    "firstlines(\"test.txt\",2)"
   ]
  },
  {
   "cell_type": "markdown",
   "id": "f88b5cc3",
   "metadata": {},
   "source": [
    "3. Write a Python program that takes a text file as input and returns the number of words of a given text file."
   ]
  },
  {
   "cell_type": "code",
   "execution_count": 3,
   "id": "0fd1434a",
   "metadata": {},
   "outputs": [
    {
     "data": {
      "text/plain": [
       "15"
      ]
     },
     "execution_count": 3,
     "metadata": {},
     "output_type": "execute_result"
    }
   ],
   "source": [
    "def words_num(file):\n",
    "    with open(file) as f:\n",
    "        data=f.read()\n",
    "        return len(data.split(\" \"))+1\n",
    "words_num(\"test.txt\")"
   ]
  },
  {
   "cell_type": "markdown",
   "id": "7b3af1fa",
   "metadata": {},
   "source": [
    "4.Write a Python program to read the last n lines of a file."
   ]
  },
  {
   "cell_type": "code",
   "execution_count": 4,
   "id": "9a561dbd",
   "metadata": {},
   "outputs": [
    {
     "name": "stdout",
     "output_type": "stream",
     "text": [
      "this is line 3\n",
      "\n",
      "this is the last line\n"
     ]
    }
   ],
   "source": [
    "def lastlines(file,n):\n",
    "    with open(file) as f:\n",
    "        for line in (f.readlines() [-n:]):\n",
    "            print(line)\n",
    "lastlines(\"test.txt\",2)"
   ]
  },
  {
   "cell_type": "code",
   "execution_count": null,
   "id": "b03dc439",
   "metadata": {},
   "outputs": [],
   "source": []
  }
 ],
 "metadata": {
  "kernelspec": {
   "display_name": "Python 3 (ipykernel)",
   "language": "python",
   "name": "python3"
  },
  "language_info": {
   "codemirror_mode": {
    "name": "ipython",
    "version": 3
   },
   "file_extension": ".py",
   "mimetype": "text/x-python",
   "name": "python",
   "nbconvert_exporter": "python",
   "pygments_lexer": "ipython3",
   "version": "3.9.12"
  }
 },
 "nbformat": 4,
 "nbformat_minor": 5
}
